{
  "nbformat": 4,
  "nbformat_minor": 0,
  "metadata": {
    "colab": {
      "provenance": [],
      "authorship_tag": "ABX9TyPaFLCGGQf6RgbRsA9iIste",
      "include_colab_link": true
    },
    "kernelspec": {
      "name": "python3",
      "display_name": "Python 3"
    },
    "language_info": {
      "name": "python"
    }
  },
  "cells": [
    {
      "cell_type": "markdown",
      "metadata": {
        "id": "view-in-github",
        "colab_type": "text"
      },
      "source": [
        "<a href=\"https://colab.research.google.com/github/NafiaAamir113/Simple-Calculator/blob/main/Calculator.ipynb\" target=\"_parent\"><img src=\"https://colab.research.google.com/assets/colab-badge.svg\" alt=\"Open In Colab\"/></a>"
      ]
    },
    {
      "cell_type": "code",
      "execution_count": 5,
      "metadata": {
        "colab": {
          "base_uri": "https://localhost:8080/"
        },
        "id": "pwKGTLhxQYsy",
        "outputId": "813b0744-4cec-4c1a-f536-b48b946236a6"
      },
      "outputs": [
        {
          "output_type": "stream",
          "name": "stdout",
          "text": [
            "Welcome to the Simple Calculator!\n",
            "Select an operation:\n",
            "1. Addition (+)\n",
            "2. Subtraction (-)\n",
            "3. Multiplication (*)\n",
            "4. Division (/)\n",
            "Enter the operation number (1/2/3/4): 3\n",
            "Enter the first number: 67\n",
            "Enter the second number: 78\n",
            "The result of multiplication is: 5226.0\n"
          ]
        }
      ],
      "source": [
        "# Simple Calculator in Python\n",
        "def calculator():\n",
        "    print(\"Welcome to the Simple Calculator!\")\n",
        "    print(\"Select an operation:\")\n",
        "    print(\"1. Addition (+)\")\n",
        "    print(\"2. Subtraction (-)\")\n",
        "    print(\"3. Multiplication (*)\")\n",
        "    print(\"4. Division (/)\")\n",
        "\n",
        "    # Taking input from the user\n",
        "    choice = input(\"Enter the operation number (1/2/3/4): \")\n",
        "\n",
        "    if choice in ['1', '2', '3', '4']:\n",
        "        # Input two numbers for the calculation\n",
        "        try:\n",
        "            num1 = float(input(\"Enter the first number: \"))\n",
        "            num2 = float(input(\"Enter the second number: \"))\n",
        "        except ValueError:\n",
        "            print(\"Invalid input! Please enter numeric values.\")\n",
        "            return\n",
        "\n",
        "        # Perform the operation based on the user's choice\n",
        "        if choice == '1':\n",
        "            print(f\"The result of addition is: {num1 + num2}\")\n",
        "        elif choice == '2':\n",
        "            print(f\"The result of subtraction is: {num1 - num2}\")\n",
        "        elif choice == '3':\n",
        "            print(f\"The result of multiplication is: {num1 * num2}\")\n",
        "        elif choice == '4':\n",
        "            if num2 != 0:\n",
        "                print(f\"The result of division is: {num1 / num2}\")\n",
        "            else:\n",
        "                print(\"Division by zero is not allowed.\")\n",
        "    else:\n",
        "        print(\"Invalid choice! Please select a valid operation.\")\n",
        "\n",
        "# Call the calculator function\n",
        "calculator()\n"
      ]
    }
  ]
}
